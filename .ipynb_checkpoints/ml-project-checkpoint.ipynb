{
 "cells": [
  {
   "cell_type": "code",
   "execution_count": null,
   "metadata": {},
   "outputs": [],
   "source": []
  },
  {
   "cell_type": "markdown",
   "metadata": {
    "colab_type": "text",
    "id": "SeS0b2ZLJd7Q"
   },
   "source": [
    "<center><h1> NEW YORK CITY TAXI TRIP DURATION </h1></center>"
   ]
  },
  {
   "cell_type": "markdown",
   "metadata": {
    "colab_type": "text",
    "id": "02mEVKK9GHbs"
   },
   "source": [
    "<center>\n",
    "<img src=\"https://newyorkmonamour.fr/wp-content/uploads/2016/10/taxi-jaune-a-new-york.jpg\">\n",
    "</center>\n",
    "<center>\n",
    "<a href='https://newyorkmonamour.fr/wp-content/uploads/2016/10/taxi-jaune-a-new-york.jpg'>TAXIS NEW YORK</a>\n",
    "</center>"
   ]
  },
  {
   "cell_type": "markdown",
   "metadata": {
    "colab_type": "text",
    "id": "zytetTQfF__n"
   },
   "source": [
    "<h3>Importer les données</h3>"
   ]
  },
  {
   "cell_type": "code",
   "execution_count": 1,
   "metadata": {
    "colab": {},
    "colab_type": "code",
    "id": "IRX4EgfPH0ik"
   },
   "outputs": [
    {
     "ename": "ModuleNotFoundError",
     "evalue": "No module named 'geopandas'",
     "output_type": "error",
     "traceback": [
      "\u001b[1;31m---------------------------------------------------------------------------\u001b[0m",
      "\u001b[1;31mModuleNotFoundError\u001b[0m                       Traceback (most recent call last)",
      "\u001b[1;32m<ipython-input-1-f115ed433f64>\u001b[0m in \u001b[0;36m<module>\u001b[1;34m\u001b[0m\n\u001b[0;32m     12\u001b[0m \u001b[1;32mimport\u001b[0m \u001b[0mmatplotlib\u001b[0m\u001b[1;33m.\u001b[0m\u001b[0mpyplot\u001b[0m \u001b[1;32mas\u001b[0m \u001b[0mplt\u001b[0m\u001b[1;33m\u001b[0m\u001b[1;33m\u001b[0m\u001b[0m\n\u001b[0;32m     13\u001b[0m \u001b[1;32mimport\u001b[0m \u001b[0mpandas\u001b[0m \u001b[1;32mas\u001b[0m \u001b[0mpd\u001b[0m\u001b[1;33m\u001b[0m\u001b[1;33m\u001b[0m\u001b[0m\n\u001b[1;32m---> 14\u001b[1;33m \u001b[1;32mimport\u001b[0m \u001b[0mgeopandas\u001b[0m\u001b[1;33m\u001b[0m\u001b[1;33m\u001b[0m\u001b[0m\n\u001b[0m\u001b[0;32m     15\u001b[0m \u001b[1;32mimport\u001b[0m \u001b[0mseaborn\u001b[0m \u001b[1;32mas\u001b[0m \u001b[0msns\u001b[0m\u001b[1;33m\u001b[0m\u001b[1;33m\u001b[0m\u001b[0m\n\u001b[0;32m     16\u001b[0m \u001b[1;33m\u001b[0m\u001b[0m\n",
      "\u001b[1;31mModuleNotFoundError\u001b[0m: No module named 'geopandas'"
     ]
    }
   ],
   "source": [
    "# Input data files are available in the \"../input/\" directory.\n",
    "# For example, running this (by clicking run or pressing Shift+Enter) will list all files under the input directory\n",
    "\n",
    "import os\n",
    "for dirname, _, filenames in os.walk('/kaggle/input'):\n",
    "    for filename in filenames:\n",
    "        print(os.path.join(dirname, filename))\n",
    "\n",
    "# Any results you write to the current directory are saved as output.\n",
    "#### Bibliotheques\n",
    "import numpy as np\n",
    "import matplotlib.pyplot as plt\n",
    "import pandas as pd\n",
    "import geopandas\n",
    "import seaborn as sns\n",
    "\n",
    "#import contextily as ctx   #conda install contextily --channel conda-forge\n",
    "\n"
   ]
  },
  {
   "cell_type": "code",
   "execution_count": null,
   "metadata": {
    "colab": {},
    "colab_type": "code",
    "id": "ZLhD7AFgw0AH"
   },
   "outputs": [],
   "source": [
    "#### Lecture des données\n",
    "train_data = pd.read_csv('../input/nyc-taxi-trip-duration/train.zip')\n",
    "test = pd.read_csv('../input/nyc-taxi-trip-duration/test.zip')\n",
    "\n",
    "#### Affichage des données\n",
    "print('Data\\n',train_data.head())\n",
    "print('Data Shape : ',train_data.shape)"
   ]
  },
  {
   "cell_type": "code",
   "execution_count": null,
   "metadata": {
    "colab": {},
    "colab_type": "code",
    "id": "uQejfoRnH6G-"
   },
   "outputs": [],
   "source": [
    "#### Structure des données\n",
    "pd.options.display.max_columns = None\n",
    "print(\"Description des données : \\n\",train_data.describe())\n",
    "#print(\"Description de Trip_Duration : \\n\",train_data.trip_duration.describe())"
   ]
  },
  {
   "cell_type": "code",
   "execution_count": null,
   "metadata": {
    "colab": {},
    "colab_type": "code",
    "id": "TGGWA0hVBxX8",
    "scrolled": true
   },
   "outputs": [],
   "source": [
    "#### Nombre de lignes dupliquées\n",
    "train_data.duplicated().sum()"
   ]
  },
  {
   "cell_type": "code",
   "execution_count": null,
   "metadata": {
    "colab": {},
    "colab_type": "code",
    "id": "UGVTJWV9KeWE"
   },
   "outputs": [],
   "source": [
    "#### Valeurs NULL dans chaque colonne dans le dataset\n",
    "print(train_data.isnull().sum())"
   ]
  },
  {
   "cell_type": "code",
   "execution_count": null,
   "metadata": {
    "colab": {},
    "colab_type": "code",
    "id": "jygHPWraEdao"
   },
   "outputs": [],
   "source": [
    "#### Répartition des données d'entrainement de chaque colonne\n",
    "plt.figure(figsize=(12,6))\n",
    "plt.title(\"variation des valeurs\")\n",
    "train_data.boxplot(grid=True)\n",
    "#train_data.boxplot(column=\"trip_duration\",grid=False)"
   ]
  },
  {
   "cell_type": "markdown",
   "metadata": {
    "colab_type": "text",
    "id": "4odtYYgzFHuy"
   },
   "source": [
    "**Durée de voyage**"
   ]
  },
  {
   "cell_type": "code",
   "execution_count": null,
   "metadata": {
    "colab": {},
    "colab_type": "code",
    "id": "oSEO_e1XI3jU"
   },
   "outputs": [],
   "source": [
    "plt.figure(figsize=(12,6))\n",
    "plt.plot(train_data.trip_duration,'b.')\n",
    "plt.show()"
   ]
  },
  {
   "cell_type": "code",
   "execution_count": null,
   "metadata": {
    "colab": {},
    "colab_type": "code",
    "id": "a94gwemS-mAx"
   },
   "outputs": [],
   "source": [
    "#### Filtrer les données par rapport à la durées de voyage (<7200s >60s)\n",
    "\n",
    "plt.figure(figsize=(12,6))\n",
    "plt.ylabel('All Data')\n",
    "\n",
    "plt.plot(train_data[((train_data.trip_duration > (3600*2)) | (train_data.trip_duration < 60))].trip_duration,'r*',alpha = 1,markersize=3)\n",
    "filter = ((train_data.trip_duration > (3600*2)) | (train_data.trip_duration < 60))\n",
    "print('Anomalies dans les durées de voyage : ',(train_data[filter].shape[0]),' / ',(train_data[filter].shape[0] / train_data.shape[0] * 100),'%')\n",
    "plt.plot(train_data[~((train_data.trip_duration > (3600*2)) | (train_data.trip_duration < 60))].trip_duration,'b.',alpha = 1,markersize=3)\n",
    "plt.show()"
   ]
  },
  {
   "cell_type": "code",
   "execution_count": null,
   "metadata": {
    "colab": {},
    "colab_type": "code",
    "id": "4ZjvceCrawvF"
   },
   "outputs": [],
   "source": [
    "#### Données filtées\n",
    "train_data = train_data[~((train_data.trip_duration <60) | (train_data.trip_duration > (3600*2)))]\n",
    "\n",
    "plt.figure(figsize=(12,6))\n",
    "plt.ylabel('Filtred Data')\n",
    "plt.plot(train_data.trip_duration, marker='.', color = 'b', linestyle='None')\n",
    "plt.show()\n",
    "print(train_data.shape[0])"
   ]
  },
  {
   "cell_type": "markdown",
   "metadata": {
    "colab_type": "text",
    "id": "rfB60hLqFjbE"
   },
   "source": [
    "**Nombre de passager**"
   ]
  },
  {
   "cell_type": "code",
   "execution_count": null,
   "metadata": {
    "colab": {},
    "colab_type": "code",
    "id": "pyEdscLeL2AN"
   },
   "outputs": [],
   "source": [
    "print(train_data.shape[0])\n",
    "print('Voyages avec (nb_passeger = 0) : {}'.format(train_data[train_data.passenger_count == 0].shape[0]))\n",
    "plt.figure(figsize=(12,6))\n",
    "plt.plot(train_data.passenger_count, 'b.', train_data[(train_data.passenger_count == 0)].passenger_count, 'r.')\n",
    "plt.show()\n",
    "train_data = train_data[~(train_data.passenger_count == 0)]\n",
    "plt.figure(figsize=(12,6))\n",
    "plt.plot(train_data.passenger_count, marker='.', color = 'b', linestyle='None')\n",
    "plt.show()\n",
    "print (train_data.shape)"
   ]
  },
  {
   "cell_type": "markdown",
   "metadata": {
    "colab_type": "text",
    "id": "CNWdSG-zE2DN"
   },
   "source": [
    "**Position**"
   ]
  },
  {
   "cell_type": "code",
   "execution_count": null,
   "metadata": {
    "colab": {},
    "colab_type": "code",
    "id": "myOqC58FzwWo",
    "scrolled": true
   },
   "outputs": [],
   "source": [
    "#### USA - New York - New York City\n",
    "\n",
    "fig, ax = plt.subplots(1, 1, figsize=(12,8))\n",
    "\n",
    "usa = geopandas.read_file('../input/states/states.shp')\n",
    "usa.plot(ax=ax, alpha=.4, edgecolor='black', color='white', linewidth=.5)\n",
    "usa[usa.STATE_NAME=='New York'].plot(ax=ax, alpha=1, linewidth=.5, edgecolor='k',color='yellow')\n",
    "\n",
    "longitudeMin = plt.axvline(x=-74.257159, color='g', linestyle='--', linewidth=.5)\n",
    "longitudeMax = plt.axvline(x=-73.699215, color='g', linestyle='--', linewidth=.5)\n",
    "latitudeMin = plt.axhline(y=40.915568, color='g', linestyle='--', linewidth=.5)\n",
    "latitudeMax = plt.axhline(y=40.495992, color='g', linestyle='--', linewidth=.5)\n",
    "\n",
    "#ax.axis('off')\n",
    "#plt.savefig('./usa.png', dpi=1080, transparent=True)\n",
    "plt.show()"
   ]
  },
  {
   "cell_type": "code",
   "execution_count": null,
   "metadata": {
    "colab": {},
    "colab_type": "code",
    "id": "x14432TZS7r2"
   },
   "outputs": [],
   "source": [
    "#### Taxis Pickups AND Dropoffs positions\n",
    "\n",
    "fig, ax = plt.subplots(1, 1, figsize=(12,8))\n",
    "\n",
    "usa = geopandas.read_file('../input/states/states.shp')\n",
    "usa.plot(ax=ax, alpha=.4, edgecolor='black', color='white', linewidth=.5)\n",
    "usa[usa.STATE_NAME=='New York'].plot(ax=ax, alpha=1, linewidth=.5, edgecolor='black',color= 'yellow')\n",
    "\n",
    "plt.plot(train_data.dropoff_longitude,train_data.dropoff_latitude, marker='.' ,color = 'b' ,linestyle='None' ,alpha = .5 ,markersize = 5)\n",
    "plt.plot(train_data.pickup_longitude ,train_data.pickup_latitude ,marker='.' ,color = 'r' ,linestyle='None' ,alpha = .5 ,markersize = 5)\n",
    "\n",
    "longitudeMin = plt.axvline(x=-85, color='g', linestyle='--', linewidth=.7)\n",
    "longitudeMax = plt.axvline(x=-67, color='g', linestyle='--', linewidth=.7)\n",
    "latitudeMin = plt.axhline(y=50, color='g', linestyle='--', linewidth=.7)\n",
    "latitudeMax = plt.axhline(y=35, color='g', linestyle='--', linewidth=.7)\n",
    "\n",
    "#plt.savefig('./usa_taxis_position.png',dpi=1080, transparent=True)\n",
    "plt.show()\n",
    "print(train_data.shape[0])"
   ]
  },
  {
   "cell_type": "code",
   "execution_count": null,
   "metadata": {
    "colab": {},
    "colab_type": "code",
    "id": "3GB6iSZp6cIb"
   },
   "outputs": [],
   "source": [
    "#### Taxis Pickups positions\n",
    "\n",
    "fig, ax = plt.subplots(1, 1, figsize=(12,8))\n",
    "\n",
    "usa = geopandas.read_file('../input/states/states.shp')\n",
    "usa.plot(ax=ax, alpha=.4, edgecolor='black', color='white', linewidth=.5)\n",
    "usa[usa.STATE_NAME=='New York'].plot(ax=ax, alpha=1, linewidth=.5, edgecolor='k',color= 'yellow')\n",
    "\n",
    "plt.plot(train_data.pickup_longitude ,train_data.pickup_latitude ,marker='.' ,color = 'r' ,linestyle='None' ,alpha = .5 ,markersize = 5)\n",
    "\n",
    "#plt.savefig('./usa_taxis_pickup_position.png',dpi=1080, transparent=True)\n",
    "plt.show()"
   ]
  },
  {
   "cell_type": "code",
   "execution_count": null,
   "metadata": {
    "colab": {},
    "colab_type": "code",
    "id": "mxbSI8Md-4su"
   },
   "outputs": [],
   "source": [
    "#### Taxis Dropoffs positions\n",
    "\n",
    "fig, ax = plt.subplots(1, 1, figsize=(12,8))\n",
    "\n",
    "usa = geopandas.read_file('../input/states/states.shp')\n",
    "usa.plot(ax=ax, alpha=.4, edgecolor='black', color='white', linewidth=.5)\n",
    "usa[usa.STATE_NAME=='New York'].plot(ax=ax, alpha=1, linewidth=.5, edgecolor='k',color= 'yellow')\n",
    "\n",
    "plt.plot(train_data.dropoff_longitude,train_data.dropoff_latitude, marker='.' ,color = 'b' ,linestyle='None' ,alpha = .5 ,markersize = 5)\n",
    "\n",
    "#plt.savefig('./usa_taxis_dropoff_position.png',dpi=1080, transparent=True)\n",
    "plt.show()"
   ]
  },
  {
   "cell_type": "code",
   "execution_count": null,
   "metadata": {
    "colab": {},
    "colab_type": "code",
    "id": "NMMe7YT0D1bm"
   },
   "outputs": [],
   "source": [
    "train_data = train_data[~((train_data.dropoff_longitude <= -85) | (train_data.dropoff_longitude >= -67) |\n",
    "                 (train_data.dropoff_latitude <= 35) | (train_data.dropoff_latitude >= 50)) ]\n",
    "print('Après filtre dropoff: ',train_data.shape[0])\n",
    "\n",
    "train_data = train_data[~((train_data.pickup_longitude <= -85) | (train_data.pickup_longitude >= -67) |\n",
    "                 (train_data.pickup_latitude <= 35) | (train_data.pickup_latitude >= 50))]\n",
    "print('Après filtre pickup: ',train_data.shape[0])\n",
    "\n",
    "fig, ax = plt.subplots(1, 1, figsize=(12,8))\n",
    "usa = geopandas.read_file('../input/states/states.shp')\n",
    "usa.plot(ax=ax, alpha=.4, edgecolor='black', color='white', linewidth=.5)\n",
    "usa[usa.STATE_NAME=='New York'].plot(ax=ax, alpha=1, linewidth=.5, edgecolor='k',color= 'yellow')\n",
    "\n",
    "plt.plot(train_data.dropoff_longitude, train_data.dropoff_latitude, marker='.', color = 'b', linestyle='None', alpha = .5, markersize = 5)\n",
    "plt.plot(train_data.pickup_longitude, train_data.pickup_latitude, marker='.', color = 'r', linestyle='None', alpha = .5, markersize = 5)\n",
    "\n",
    "longitudeMin = plt.axvline(x=-85, color='g', linestyle='--', linewidth=.7)\n",
    "longitudeMax = plt.axvline(x=-67, color='g', linestyle='--', linewidth=.7)\n",
    "latitudeMin = plt.axhline(y=50, color='g', linestyle='--', linewidth=.7)\n",
    "latitudeMax = plt.axhline(y=35, color='g', linestyle='--', linewidth=.7)\n",
    "\n",
    "#plt.savefig('./nyc_taxis_filtered_positions.png',dpi=1080, transparent=True)\n",
    "plt.show()"
   ]
  },
  {
   "cell_type": "code",
   "execution_count": null,
   "metadata": {
    "colab": {},
    "colab_type": "code",
    "id": "aoDoF3WOHHxN"
   },
   "outputs": [],
   "source": [
    "dow_names = ['Monday', 'Tuesday', 'Wednesday', 'Thursday', 'Friday', 'Saturday', 'Sunday']\n",
    "mm_names = ['January', 'February', 'March', 'April', 'May', 'June','July', 'August', 'September', 'October', 'November', 'December']"
   ]
  },
  {
   "cell_type": "code",
   "execution_count": null,
   "metadata": {
    "colab": {},
    "colab_type": "code",
    "id": "hNc0ipL5BxbR"
   },
   "outputs": [],
   "source": [
    "#transformation logarithmique de trip_duration\n",
    "plt.subplots(figsize=(18,6))\n",
    "train_data['trip_duration'] = np.log(train_data['trip_duration'].values)\n",
    "plt.hist(train_data['trip_duration'].values, bins=100)\n",
    "plt.xlabel('log(trip_duration)')\n",
    "plt.ylabel('number of train records')\n",
    "plt.show()"
   ]
  },
  {
   "cell_type": "code",
   "execution_count": null,
   "metadata": {},
   "outputs": [],
   "source": [
    "#Datetyping the dates\n",
    "train_data['pickup_datetime'] = pd.to_datetime(train_data.pickup_datetime)\n",
    "test['pickup_datetime'] = pd.to_datetime(test.pickup_datetime)\n",
    "\n",
    "train_data.drop(['dropoff_datetime'], axis=1, inplace=True) #as we don't have this feature in the testset\n",
    "\n",
    "#Date features creations and deletions\n",
    "train_data['month'] = train_data.pickup_datetime.dt.month\n",
    "train_data['week'] = train_data.pickup_datetime.dt.week\n",
    "train_data['weekday'] = train_data.pickup_datetime.dt.weekday\n",
    "train_data['hour'] = train_data.pickup_datetime.dt.hour\n",
    "train_data['minute'] = train_data.pickup_datetime.dt.minute\n",
    "train_data['minute_oftheday'] = train_data['hour'] * 60 + train_data['minute']\n",
    "train_data.drop(['minute'], axis=1, inplace=True)\n",
    "\n",
    "test['month'] = test.pickup_datetime.dt.month\n",
    "test['week'] = test.pickup_datetime.dt.week\n",
    "test['weekday'] = test.pickup_datetime.dt.weekday\n",
    "test['hour'] = test.pickup_datetime.dt.hour\n",
    "test['minute'] = test.pickup_datetime.dt.minute\n",
    "test['minute_oftheday'] = test['hour'] * 60 + test['minute']\n",
    "test.drop(['minute'], axis=1, inplace=True)\n",
    "\n",
    "train_data.drop(['pickup_datetime'], axis=1, inplace=True)\n",
    "\n",
    "\n",
    "\n",
    "plt.figure(figsize=(12,2))\n",
    "\n",
    "data = train_data.groupby('month').aggregate({'id':'count'}).reset_index()\n",
    "sns.barplot(x='month',y='id',data=data)\n",
    "plt.title('Pick-ups month Distribution')\n",
    "plt.xlabel('Month, 1-12')\n",
    "plt.ylabel('No of Trips made')\n",
    "plt.show()"
   ]
  },
  {
   "cell_type": "markdown",
   "metadata": {},
   "source": [
    "Calculer la distance et la vitesse"
   ]
  },
  {
   "cell_type": "code",
   "execution_count": null,
   "metadata": {},
   "outputs": [],
   "source": [
    "#Function aiming at calculating distances from coordinates\n",
    "def ft_haversine_distance(lat1, lng1, lat2, lng2):\n",
    "    lat1, lng1, lat2, lng2 = map(np.radians, (lat1, lng1, lat2, lng2))\n",
    "    AVG_EARTH_RADIUS = 6371 #km\n",
    "    lat = lat2 - lat1\n",
    "    lng = lng2 - lng1\n",
    "    d = np.sin(lat * 0.5) ** 2 + np.cos(lat1) * np.cos(lat2) * np.sin(lng * 0.5) ** 2\n",
    "    h = 2 * AVG_EARTH_RADIUS * np.arcsin(np.sqrt(d))\n",
    "    return h\n",
    "\n",
    "#Add distance feature\n",
    "train_data['distance'] = ft_haversine_distance(train_data['pickup_latitude'].values,\n",
    "                                                 train_data['pickup_longitude'].values, \n",
    "                                                 train_data['dropoff_latitude'].values,\n",
    "                                                 train_data['dropoff_longitude'].values)\n",
    "test['distance'] = ft_haversine_distance(test['pickup_latitude'].values, \n",
    "                                                test['pickup_longitude'].values, \n",
    "                                                test['dropoff_latitude'].values, \n",
    "                                                test['dropoff_longitude'].values)"
   ]
  },
  {
   "cell_type": "code",
   "execution_count": null,
   "metadata": {},
   "outputs": [],
   "source": [
    "#Function aiming at calculating the direction\n",
    "def ft_degree(lat1, lng1, lat2, lng2):\n",
    "    AVG_EARTH_RADIUS = 6371 #km\n",
    "    lng_delta_rad = np.radians(lng2 - lng1)\n",
    "    lat1, lng1, lat2, lng2 = map(np.radians, (lat1, lng1, lat2, lng2))\n",
    "    y = np.sin(lng_delta_rad) * np.cos(lat2)\n",
    "    x = np.cos(lat1) * np.sin(lat2) - np.sin(lat1) * np.cos(lat2) * np.cos(lng_delta_rad)\n",
    "    return np.degrees(np.arctan2(y, x))\n",
    "\n",
    "#Add direction feature\n",
    "train_data['direction'] = ft_degree(train_data['pickup_latitude'].values,\n",
    "                                train_data['pickup_longitude'].values,\n",
    "                                train_data['dropoff_latitude'].values,\n",
    "                                train_data['dropoff_longitude'].values)\n",
    "test['direction'] = ft_degree(test['pickup_latitude'].values,\n",
    "                                  test['pickup_longitude'].values, \n",
    "                                  test['dropoff_latitude'].values,\n",
    "                                  test['dropoff_longitude'].values)"
   ]
  },
  {
   "cell_type": "code",
   "execution_count": null,
   "metadata": {},
   "outputs": [],
   "source": [
    "#Visualize distance outliers\n",
    "train_data.boxplot(column='distance', return_type='axes');"
   ]
  },
  {
   "cell_type": "code",
   "execution_count": null,
   "metadata": {},
   "outputs": [],
   "source": [
    "#Remove distance outliers\n",
    "train_data = train_data[(train_data.distance < 200)]\n",
    "#Create speed feature\n",
    "train_data['speed'] = train_data.distance / train_data.trip_duration\n",
    "#Visualize speed feature\n",
    "train_data.boxplot(column='speed', return_type='axes');"
   ]
  },
  {
   "cell_type": "code",
   "execution_count": null,
   "metadata": {},
   "outputs": [],
   "source": [
    "#Remove speed outliers\n",
    "train_data = train_data[(train_data.speed < 30)]\n",
    "train_data.drop(['speed'], axis=1, inplace=True)\n"
   ]
  },
  {
   "cell_type": "code",
   "execution_count": null,
   "metadata": {},
   "outputs": [],
   "source": []
  },
  {
   "cell_type": "markdown",
   "metadata": {},
   "source": [
    "> ***les modèles***"
   ]
  },
  {
   "cell_type": "code",
   "execution_count": null,
   "metadata": {},
   "outputs": [],
   "source": [
    "Id=test.id.values\n",
    "test=test.drop(['id','pickup_datetime','store_and_fwd_flag'], axis=1)\n",
    "target=train_data.trip_duration.values\n",
    "train_data = train_data.drop(['id','trip_duration','store_and_fwd_flag'], axis=1)\n",
    "train_data.fillna(0,inplace=True)\n",
    "train_data.dtypes\n"
   ]
  },
  {
   "cell_type": "code",
   "execution_count": null,
   "metadata": {},
   "outputs": [],
   "source": [
    "test.dtypes\n"
   ]
  },
  {
   "cell_type": "markdown",
   "metadata": {},
   "source": [
    "Arbre de décision :"
   ]
  },
  {
   "cell_type": "code",
   "execution_count": null,
   "metadata": {},
   "outputs": [],
   "source": [
    "from sklearn.ensemble import RandomForestRegressor\n",
    "rf_model = RandomForestRegressor(n_estimators=50, min_samples_leaf=50, min_samples_split=75)"
   ]
  },
  {
   "cell_type": "code",
   "execution_count": null,
   "metadata": {},
   "outputs": [],
   "source": [
    "rf_model.fit(train_data.values, target)\n",
    "predictions=rf_model.predict(test.values)\n",
    "predictions[:5]"
   ]
  },
  {
   "cell_type": "code",
   "execution_count": null,
   "metadata": {},
   "outputs": [],
   "source": [
    "test['trip_duration'] = np.exp(predictions) - 1\n",
    "test['id']=Id\n",
    "test[['id', 'trip_duration']].to_csv('submission.csv.gz', index=False, compression='gzip')\n",
    "test['trip_duration'][:5]"
   ]
  },
  {
   "cell_type": "code",
   "execution_count": null,
   "metadata": {},
   "outputs": [],
   "source": []
  }
 ],
 "metadata": {
  "accelerator": "GPU",
  "colab": {
   "collapsed_sections": [],
   "name": "ML.ipynb",
   "provenance": []
  },
  "kernelspec": {
   "display_name": "Python 3",
   "language": "python",
   "name": "python3"
  },
  "language_info": {
   "codemirror_mode": {
    "name": "ipython",
    "version": 3
   },
   "file_extension": ".py",
   "mimetype": "text/x-python",
   "name": "python",
   "nbconvert_exporter": "python",
   "pygments_lexer": "ipython3",
   "version": "3.7.4"
  }
 },
 "nbformat": 4,
 "nbformat_minor": 4
}
